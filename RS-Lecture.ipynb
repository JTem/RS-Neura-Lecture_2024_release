{
 "cells": [
  {
   "cell_type": "markdown",
   "metadata": {},
   "source": [
    "# Todays Topic: Dual Quaternions and Screw Theory\n",
    "---\n",
    "<br>\n",
    "\n",
    "### Content:\n",
    "\n",
    "- Rotation Matrices Introduction\n",
    "- Transformation Matrices Introduction\n",
    "- from Complex Numbers to Dual Quaternions\n",
    "    - Complex Numbers\n",
    "    - Quaternions\n",
    "    - Dual Quaternions\n",
    "\n",
    "- Screw Theory\n",
    "    - Basics\n",
    "    - Dual Quaternion Transformation\n",
    "    - Application To Kinematics\n",
    "\n",
    "- Comparison Dual Quaternions vs Transformation Matrices\n",
    "\n",
    "<br><br><br><br>"
   ]
  },
  {
   "cell_type": "markdown",
   "metadata": {},
   "source": [
    "## Rotation Matrices: Representation of Rotations in 3D\n",
    "---\n",
    "<br>\n",
    "\n",
    "A **rotation matrix** is a special orthogonal matrix used to rotate vectors in a Euclidean space. In 3D, a rotation matrix $R \\in \\mathbb{R}^{3 \\times 3}$ represents rotations around an axis or between coordinate frames.\n",
    "\n",
    "\n",
    "#### Properties:\n",
    "- A **3D rotation matrix** $ R $ is a square $ 3 \\times 3 $ matrix that satisfies:\n",
    "   $$\n",
    "   R^T R = I \\quad \\text{and} \\quad \\det(R) = 1\n",
    "   $$\n",
    "- **Orthogonality**: Columns (and rows) of $ R $ are orthonormal, meaning:\n",
    "  - Each column has a unit length: $ \\|R_i\\| = 1 $,\n",
    "  - Columns are mutually perpendicular, and represent the frame axis $\\vec{x}$, $\\vec{y}$, $\\vec{z}$\n",
    "- **Rotation Composition**: The product of two rotation matrices $ R_1 $ and $ R_2 $ is also a rotation matrix:\n",
    "  $$\n",
    "  R = R_1 \\cdot R_2\n",
    "  $$\n",
    "\n",
    "#### Basic Rotation Matrices:\n",
    "In 3D, rotations can be decomposed around each principal axis:\n",
    "1. **Rotation around the $ x $-axis** by angle $ \\theta $:\n",
    "   $$\n",
    "   R_x(\\theta) = \\begin{bmatrix} \n",
    "   1 & 0 & 0 \\\\ \n",
    "   0 & \\cos(\\theta) & -\\sin(\\theta) \\\\ \n",
    "   0 & \\sin(\\theta) & \\cos(\\theta) \n",
    "   \\end{bmatrix}\n",
    "   $$"
   ]
  },
  {
   "cell_type": "code",
   "execution_count": 1,
   "metadata": {},
   "outputs": [
    {
     "name": "stdout",
     "output_type": "stream",
     "text": [
      "[[   1.000    0.000    0.000]\n",
      " [   0.000    0.540   -0.841]\n",
      " [   0.000    0.841    0.540]]\n"
     ]
    }
   ],
   "source": [
    "from helper import *\n",
    "\n",
    "\n",
    "def Rx(theta):\n",
    "    Rx = np.array([ [1, 0,                         0],\n",
    "                    [0, np.cos(theta), -np.sin(theta)],\n",
    "                    [0, np.sin(theta), np.cos(theta)]])\n",
    "    return Rx\n",
    "\n",
    "print(Rx(1))"
   ]
  },
  {
   "cell_type": "markdown",
   "metadata": {},
   "source": [
    "2. **Rotation around the $ y $-axis** by angle $ \\theta $:\n",
    "   $$\n",
    "   R_y(\\theta) = \\begin{bmatrix} \n",
    "   \\cos(\\theta) & 0 & \\sin(\\theta) \\\\ \n",
    "   0 & 1 & 0 \\\\ \n",
    "   -\\sin(\\theta) & 0 & \\cos(\\theta) \n",
    "   \\end{bmatrix}\n",
    "   $$"
   ]
  },
  {
   "cell_type": "code",
   "execution_count": 2,
   "metadata": {},
   "outputs": [
    {
     "name": "stdout",
     "output_type": "stream",
     "text": [
      "[[   0.540    0.000    0.841]\n",
      " [   0.000    1.000    0.000]\n",
      " [  -0.841    0.000    0.540]]\n"
     ]
    }
   ],
   "source": [
    "def Ry(theta):\n",
    "    Ry = np.array([ [np.cos(theta),  0, np.sin(theta)],\n",
    "                    [0,              1,             0],\n",
    "                    [-np.sin(theta), 0, np.cos(theta)]])\n",
    "    return Ry\n",
    "\n",
    "print(Ry(1))"
   ]
  },
  {
   "cell_type": "markdown",
   "metadata": {},
   "source": [
    "3. **Rotation around the $ z $-axis** by angle $ \\theta $:\n",
    "   $$\n",
    "   R_z(\\theta) = \\begin{bmatrix} \n",
    "   \\cos(\\theta) & -\\sin(\\theta) & 0 \\\\ \n",
    "   \\sin(\\theta) & \\cos(\\theta) & 0 \\\\ \n",
    "   0 & 0 & 1 \n",
    "   \\end{bmatrix}"
   ]
  },
  {
   "cell_type": "code",
   "execution_count": 3,
   "metadata": {},
   "outputs": [
    {
     "name": "stdout",
     "output_type": "stream",
     "text": [
      "[[   0.540   -0.841    0.000]\n",
      " [   0.841    0.540    0.000]\n",
      " [   0.000    0.000    1.000]]\n"
     ]
    }
   ],
   "source": [
    "def Rz(theta):\n",
    "    Rz = np.array([ [np.cos(theta), -np.sin(theta), 0],\n",
    "                    [np.sin(theta),  np.cos(theta), 0],\n",
    "                    [0,              0,             1]])\n",
    "    return Rz\n",
    "\n",
    "print(Rz(1))"
   ]
  },
  {
   "cell_type": "code",
   "execution_count": 4,
   "metadata": {},
   "outputs": [
    {
     "data": {
      "application/vnd.jupyter.widget-view+json": {
       "model_id": "91b66583dc8a4b27b761182ef16a3c50",
       "version_major": 2,
       "version_minor": 0
      },
      "text/plain": [
       "Output()"
      ]
     },
     "metadata": {},
     "output_type": "display_data"
    },
    {
     "data": {
      "application/vnd.jupyter.widget-view+json": {
       "model_id": "72294988006548348cb2f9b3919647b7",
       "version_major": 2,
       "version_minor": 0
      },
      "text/plain": [
       "VBox(children=(FloatSlider(value=0.0, description='Rx', layout=Layout(width='70%'), max=6.283185307179586, min…"
      ]
     },
     "metadata": {},
     "output_type": "display_data"
    }
   ],
   "source": [
    "from helper import *\n",
    "\n",
    "def interactive_plot(angle1, angle2, angle3):\n",
    "\n",
    "    fig, ax = create_3d_plot()\n",
    "\n",
    "    # compose rotation matrix\n",
    "    rotation_matrix = Rx(angle1)@Ry(angle2)@Rz(angle3)\n",
    "    \n",
    "    # Update plot\n",
    "    draw_frame(ax, [0, 0, 0], rotation_matrix)\n",
    "    plt.show()\n",
    "\n",
    "slider_R1 = create_angle_slider(\"Rx\")\n",
    "slider_R2 = create_angle_slider(\"Ry\")\n",
    "slider_R3 = create_angle_slider(\"Rz\")\n",
    "\n",
    "ui = widgets.VBox([slider_R1, slider_R2, slider_R3])\n",
    "out = widgets.interactive_output(interactive_plot, {\"angle1\": slider_R1, \"angle2\": slider_R2, \"angle3\": slider_R3})\n",
    "\n",
    "# Display the UI\n",
    "display(out, ui)\n"
   ]
  },
  {
   "cell_type": "markdown",
   "metadata": {},
   "source": [
    "## Transformation Matrices: Combining Rotation and Translation in 3D\n",
    "---\n",
    "<br>\n",
    "\n",
    "A **transformation matrix** in 3D is a $4 \\times 4$ matrix that combines rotation and translation, allowing for the movement and orientation of objects in a 3D space.\n",
    "\n",
    "#### Properties:\n",
    "- A **3D transformation matrix** $ T \\in \\mathbb{R}^{4 \\times 4} $ has the form:\n",
    "  $$\n",
    "  T = \\begin{bmatrix} \n",
    "  R & \\vec{p} \\\\ \n",
    "  0 & 1 \n",
    "  \\end{bmatrix}\n",
    "  $$\n",
    "  where:\n",
    "  - $ R \\in \\mathbb{R}^{3 \\times 3} $ is a rotation matrix,\n",
    "  - $ \\vec{p} = \\begin{bmatrix} p_x \\\\ p_y \\\\ p_z \\end{bmatrix} $ is a translation vector,\n",
    "  \n",
    "- **Rotation and Translation**: Transformation matrices combine rotation (through $R$) and translation (through $\\vec{p}$), enabling both orientation and displacement.\n",
    "- **Matrix Multiplication**: Applying multiple transformations $ T_1 $, $ T_2 $, etc., is achieved by matrix multiplication:\n",
    "  $$\n",
    "  T_{\\text{combined}} = T_1 \\cdot T_2\n",
    "  $$\n"
   ]
  },
  {
   "cell_type": "code",
   "execution_count": 5,
   "metadata": {},
   "outputs": [
    {
     "name": "stdout",
     "output_type": "stream",
     "text": [
      "[[   0.540    0.000    0.841    1.000]\n",
      " [   0.000    1.000    0.000    2.000]\n",
      " [  -0.841    0.000    0.540    3.000]\n",
      " [   0.000    0.000    0.000    1.000]]\n"
     ]
    }
   ],
   "source": [
    "import numpy as np\n",
    "\n",
    "def Transformation(R, p):\n",
    "    T = np.eye(4,4)\n",
    "    T[:3, :3] = R\n",
    "    T[:3, 3] = p\n",
    "\n",
    "    return T\n",
    "\n",
    "R = Ry(1)\n",
    "p = np.array([1, 2, 3])\n",
    "\n",
    "print(Transformation(R, p))"
   ]
  },
  {
   "cell_type": "code",
   "execution_count": 6,
   "metadata": {},
   "outputs": [
    {
     "data": {
      "application/vnd.jupyter.widget-view+json": {
       "model_id": "886f0755d935407c8d568dda423c419c",
       "version_major": 2,
       "version_minor": 0
      },
      "text/plain": [
       "Output()"
      ]
     },
     "metadata": {},
     "output_type": "display_data"
    },
    {
     "data": {
      "application/vnd.jupyter.widget-view+json": {
       "model_id": "90ff656f599d4b8e912244759a8ce273",
       "version_major": 2,
       "version_minor": 0
      },
      "text/plain": [
       "VBox(children=(FloatSlider(value=0.0, description='Rx', layout=Layout(width='70%'), max=6.283185307179586, min…"
      ]
     },
     "metadata": {},
     "output_type": "display_data"
    }
   ],
   "source": [
    "from helper import *\n",
    "\n",
    "def interactive_plot(angle1, angle2, angle3, x, y, z):\n",
    "\n",
    "    fig, ax = create_3d_plot()\n",
    "\n",
    "    # compose rotation matrix\n",
    "    rotation_matrix = Rx(angle1)@Ry(angle2)@Rz(angle3)\n",
    "    position = np.array([x, y, z])\n",
    "\n",
    "    T = Transformation(rotation_matrix, position)\n",
    "\n",
    "    # Update plot\n",
    "    draw_frame(ax, [x, y, z], rotation_matrix)\n",
    "    plt.show()\n",
    "\n",
    "slider_R1 = create_angle_slider(\"Rx\")\n",
    "slider_R2 = create_angle_slider(\"Ry\")\n",
    "slider_R3 = create_angle_slider(\"Rz\")\n",
    "x_slider, y_slider, z_slider = create_position_sliders()\n",
    "\n",
    "ui = widgets.VBox([slider_R1, slider_R2, slider_R3,x_slider, y_slider, z_slider])\n",
    "out = widgets.interactive_output(interactive_plot, {\"angle1\": slider_R1, \"angle2\": slider_R2, \"angle3\": slider_R3, \"x\": x_slider, \"y\": y_slider, \"z\": z_slider})\n",
    "\n",
    "# Display the UI\n",
    "display(out, ui)"
   ]
  },
  {
   "cell_type": "markdown",
   "metadata": {},
   "source": [
    "## Complex Numbers\n",
    "---\n",
    "\n",
    "<br>\n",
    "\n",
    "Complex Numbers extend the Real Numbers by another component. They are 2 Dimensional and can be expressed in the so-called *Complex Plane*\n",
    "\n",
    "Recall Eulers Formula : \n",
    "$$ z = re^{i\\theta} = r(\\cos(\\theta) + i \\sin(\\theta)) = a + ib $$\n",
    "\n",
    "<br>\n",
    "\n",
    "Note:\n",
    "- $i$ is called the complex unit and $i^2 = -1$\n",
    "- $Re(z) = a$ is called the *real part* \n",
    "- $Im(z) = b$ is called the *complex part*\n",
    "- $\\|z\\| = r = \\sqrt{a^2 + b^2}$\n",
    "- all complex numbers $z$ with $\\|z\\|=1$ are part of the subspace $S^1$\n",
    "- $S^1$ is the unit-circle in the Complex Plane\n"
   ]
  },
  {
   "cell_type": "code",
   "execution_count": 7,
   "metadata": {},
   "outputs": [
    {
     "data": {
      "application/vnd.jupyter.widget-view+json": {
       "model_id": "9f37356ac53a41d59011612b4427dccd",
       "version_major": 2,
       "version_minor": 0
      },
      "text/plain": [
       "Output()"
      ]
     },
     "metadata": {},
     "output_type": "display_data"
    },
    {
     "data": {
      "application/vnd.jupyter.widget-view+json": {
       "model_id": "69893adaabe94e249666c61b3f48464c",
       "version_major": 2,
       "version_minor": 0
      },
      "text/plain": [
       "VBox(children=(FloatSlider(value=0.0, description='Angle', layout=Layout(width='70%'), max=6.28, min=-6.28, st…"
      ]
     },
     "metadata": {},
     "output_type": "display_data"
    }
   ],
   "source": [
    "from helper import *\n",
    "\n",
    "\n",
    "def interactive_plot(angle, norm):\n",
    "\n",
    "    fig, ax = create_complex_plane()\n",
    "\n",
    "    # compute the complex number\n",
    "    complex_number = norm*np.exp(1j * angle)\n",
    "\n",
    "    # Compute complex components\n",
    "    real_part = complex_number.real\n",
    "    imag_part = complex_number.imag\n",
    "    complex_text = f\"$ {norm:.2f} \\\\cdot e^{{i{angle:.2f}}} = {real_part:.2f} + {imag_part:.2f}i$\"\n",
    "    \n",
    "    # Plot the cross at the origin\n",
    "    ax.plot(real_part, imag_part, marker='x', color='red', markersize=10)\n",
    "    ax.plot([0, real_part], [0, imag_part], color='blue')\n",
    "    ax.plot([real_part,real_part], [0, imag_part], color='orange')\n",
    "    ax.plot([0, real_part], [0, 0], color='orange')\n",
    "    \n",
    "    ax.text(-1.2, 2.2, f\"Complex Number: {complex_text}\", fontsize=12, va='top', ha='left')\n",
    "    plt.show()\n",
    "\n",
    "# Define sliders for angle and norm\n",
    "slider_width = '70%'\n",
    "angle_slider = widgets.FloatSlider(value=0.0, min=-6.28, max=6.28, step=0.01, description=\"Angle\", layout={'width': slider_width})\n",
    "norm_slider = widgets.FloatSlider(value=1, min=0.1, max=1.9, step=0.01, description=\"Norm\", layout={'width': slider_width})\n",
    "\n",
    "# Link the sliders to the plot function using interactive_output\n",
    "ui = widgets.VBox([angle_slider, norm_slider])\n",
    "out = widgets.interactive_output(interactive_plot, {\"angle\": angle_slider, \"norm\": norm_slider})\n",
    "\n",
    "# Display the UI\n",
    "display(out, ui)\n"
   ]
  },
  {
   "cell_type": "markdown",
   "metadata": {},
   "source": [
    "## Complex Numbers: Rotation Composition in 2D\n",
    "---\n",
    "<br>\n",
    "\n",
    "Recall the multiplication rule of exponentials:\n",
    "\n",
    "$$ a^b \\cdot a^c = a^{b+c} $$\n",
    "\n",
    "<br><br>\n",
    "\n",
    "\n",
    "From this, the composition of 2D rotations via Complex Numbers can be derived as follows:\n",
    "\n",
    "$$\n",
    "\\begin{align*}\n",
    "z_3 &= z_1 \\cdot z_2 \\\\\n",
    "&= e^{i \\theta_1} \\cdot e^{i \\theta_2}  \\\\\n",
    "&= e^{i (\\theta_1 + \\theta_2)} \\\\\n",
    "\\end{align*}\n",
    "$$\n",
    "\n",
    "<br>\n"
   ]
  },
  {
   "cell_type": "markdown",
   "metadata": {},
   "source": [
    "## Complex Numbers: Vector Rotation in 2D\n",
    "---\n",
    "<br>\n",
    "\n",
    "A complex number $u \\in S^1$ can be used to rotate any 2D vector $\\vec{x} \\in \\mathbb{R}^2$.\n",
    "\n",
    "For this, $\\vec{x} = (x_1, x_2)^T$ has to be written as a complex number $x_c$:\n",
    "\n",
    "$$ x_c = x_1 + i x_2 $$\n",
    "\n",
    "\n",
    "Rotation by angle $\\theta$ can be achieved by premultiplying $u(\\theta)$:\n",
    "\n",
    "$$\n",
    "\\begin{align*}\n",
    "x_{c, \\; \\text{rotated}} &= u(\\theta) \\cdot x_c \\\\\n",
    "&= e^{i \\theta} \\cdot (x_1 + i x_2) \\\\\n",
    "&= (\\cos(\\theta) + i\\sin(\\theta)) \\cdot (x_1 + i x_2) \\\\\n",
    "&= \\cos(\\theta)x_1 + i \\cos(\\theta)x_2 + i \\sin(\\theta)x_1 + i^2 \\sin(\\theta)x_2 \\\\\n",
    "&= \\cos(\\theta)x_1 - \\sin(\\theta)x_2 + i (\\cos(\\theta)x_2 + \\sin(\\theta)x_1)\n",
    "\\end{align*}\n",
    "$$\n",
    "\n",
    "Thus, the rotated vector in its $\\mathbb{R}^2$ form is:\n",
    "\n",
    "$$\\vec{x}_{\\text{rotated}} = ((\\cos(\\theta)x_1 - \\sin(\\theta)x_2),  (\\cos(\\theta)x_2 + \\sin(\\theta)x_1))^T$$\n",
    "\n",
    "\n",
    "<br>"
   ]
  },
  {
   "cell_type": "code",
   "execution_count": 8,
   "metadata": {},
   "outputs": [
    {
     "data": {
      "application/vnd.jupyter.widget-view+json": {
       "model_id": "019901f3fc114b318e74d814013a27ae",
       "version_major": 2,
       "version_minor": 0
      },
      "text/plain": [
       "Output()"
      ]
     },
     "metadata": {},
     "output_type": "display_data"
    },
    {
     "data": {
      "application/vnd.jupyter.widget-view+json": {
       "model_id": "aba20f904adf44df91137c6c1ff7dc50",
       "version_major": 2,
       "version_minor": 0
      },
      "text/plain": [
       "VBox(children=(FloatText(value=-0.8, description='x1', layout=Layout(width='70%')), FloatText(value=1.2, descr…"
      ]
     },
     "metadata": {},
     "output_type": "display_data"
    }
   ],
   "source": [
    "from helper import *\n",
    "\n",
    "# Define the interactive plot function\n",
    "def interactive_plot(x1, x2, angle, norm):\n",
    "    \n",
    "    fig, ax = create_complex_plane()\n",
    "    \n",
    "    # Original vector as complex number\n",
    "    x_c = complex(x1, x2)\n",
    "\n",
    "    u = norm*np.exp(1j * angle)\n",
    "    rotated_vector = u * x_c\n",
    "    real_rotated = rotated_vector.real\n",
    "    imag_rotated = rotated_vector.imag\n",
    "\n",
    "    # Compute complex components\n",
    "    real_part = u.real\n",
    "    imag_part = u.imag\n",
    "    complex_text = f\"$ {norm:.2f} \\\\cdot e^{{i{angle:.2f}}}$\"\n",
    "    \n",
    "    # plot the rotated vecotr\n",
    "    ax.plot([0, real_rotated], [0, imag_rotated], color=\"red\", linestyle=\"--\", label=\"Rotated Vector\")\n",
    "    ax.plot(real_rotated, imag_rotated, marker='x', color='red', markersize=10)\n",
    "\n",
    "    # Plot the cross at the origin\n",
    "    ax.plot(real_part, imag_part, marker='x', color='red', markersize=10, label=\"Origin\")\n",
    "    # Plot the vector\n",
    "    ax.plot([0, real_part], [0, imag_part],color='blue')\n",
    "    \n",
    "    # Display the complex number in LaTeX\n",
    "    ax.text(-0.8, 2.3, f\"Complex Number: {complex_text}\", fontsize=12, va='top', ha='left')\n",
    "    plt.show()\n",
    "\n",
    "slider_width = '70%'\n",
    "\n",
    "x1_input = widgets.FloatText(value=-0.8, description=\"x1\", layout={'width': slider_width})\n",
    "x2_input = widgets.FloatText(value=1.2, description=\"x2\", layout={'width': slider_width})\n",
    "\n",
    "angle_slider = widgets.FloatSlider(value=0, min=-6.28, max=6.28, step=0.01, description=\"Angle\", layout={'width': slider_width})\n",
    "norm_slider = widgets.FloatSlider(value=1, min=0.1, max=1.9, step=0.01, description=\"Norm\", layout={'width': slider_width})\n",
    "\n",
    "# Link the sliders to the plot function using interactive_output\n",
    "ui = widgets.VBox([x1_input, x2_input, angle_slider, norm_slider])\n",
    "out = widgets.interactive_output(interactive_plot, {\"x1\": x1_input, \"x2\": x2_input, \"angle\": angle_slider, \"norm\": norm_slider})\n",
    "\n",
    "# Display the UI\n",
    "display(out, ui)\n"
   ]
  },
  {
   "cell_type": "markdown",
   "metadata": {},
   "source": [
    "### Complex Numbers: Exponential and Logarithmic Map\n",
    "\n",
    "--- \n",
    "<br><br>\n",
    "\n",
    "<div style=\"display: flex; justify-content: space-between;\">\n",
    "\n",
    "<!-- Left column for text -->\n",
    "<div style=\"width: 68%;\">\n",
    "\n",
    "Starting from the complex number $z$ given in *Polar Coordinates*:\n",
    "\n",
    "\n",
    "$$ z = re^{i \\theta} $$\n",
    "\n",
    "The Logarithmic of a complex number is given as:\n",
    "\n",
    "$$ log(z) = log(r) + i \\theta $$\n",
    "    \n",
    "<br><br>\n",
    "\n",
    "Under the assumption that $z \\in S^1$ ($r=1$) we can define the Exponential and Logarithmic map of a complex Number:\n",
    "\n",
    "Exponential map:\n",
    "\n",
    "$$ i\\mathbb{R} \\to S^1 $$\n",
    "$$ i\\theta \\to e^{i\\theta} $$\n",
    "\n",
    "\n",
    "Logarithmic map:\n",
    " \n",
    " $$ S^1  \\to i\\mathbb{R} $$\n",
    " $$ e^{i \\theta} \\to i\\theta $$\n",
    "</div>\n",
    "\n",
    "<!-- Right column for image -->\n",
    "<div style=\"width: 28%;\">\n",
    "    <img src=\"./data/exp_log_s1.png\" alt=\"calibration scheme\" style=\"max-width: 600px; width: 100%; display: block; margin-left: auto; margin-right: auto;margin-top: 100px;\">\n",
    "    <p style=\"text-align: center; font-style: italic; margin-top: 10px;\">Exp and Log map on the complex unit circle.</p>\n",
    "</div>\n",
    "\n",
    "</div>\n",
    "\n",
    "<br><br><br>"
   ]
  },
  {
   "cell_type": "markdown",
   "metadata": {},
   "source": [
    "## Quaternions\n",
    "---\n",
    "<br>\n",
    "\n",
    "Quaternions extend the Complex Numbers to 3D. A Quaternion is given as:\n",
    "\n",
    "\n",
    " $$ q = w + xi + yj + zk $$\n",
    "\n",
    "Note:\n",
    "- $w$: *real part*\n",
    "- $x$, $y$, $z$: *imaginary parts*\n",
    "- $i$, $j$, $k$: *imaginary units*, satisfying\n",
    "    - $i^2 = j^2 = k^2 = ijk = -1$\n",
    "    - $ij = k$, $jk = i$, $ki = j$ (and cyclic permutations)\n",
    "- $\\|q\\| = \\sqrt{w^2 + x^2 + y^2 + z^2}$\n",
    "- if $\\|q\\| = 1$, then $q \\in S^3$ which is the subspace of *unit quaternions*\n",
    "- $S^3$ is the unit sphere in 4D space (hypersphere)\n",
    "\n",
    "\n",
    "Notations:\n",
    "\n",
    "- Standard Form: $q = w + xi + yj + zk$\n",
    "- Vector Notation: $q = (w, x, y, z)$\n",
    "- Real & Complex Part: $q = (w, \\vec{v})$, where $\\vec{v} = [x, y, z]$ is called the *complex vector* of $q$"
   ]
  },
  {
   "cell_type": "code",
   "execution_count": 9,
   "metadata": {},
   "outputs": [
    {
     "name": "stdout",
     "output_type": "stream",
     "text": [
      "Quaternion(0.000, 1.000, 0.000, 0.000)\n",
      "[[ 1  0  0]\n",
      " [ 0 -1  0]\n",
      " [ 0  0 -1]]\n"
     ]
    }
   ],
   "source": [
    "from neura_dual_quaternions import Quaternion\n",
    "\n",
    "#Example: identity quaternion\n",
    "quat = Quaternion(0,1,0,0)\n",
    "\n",
    "print(quat)\n",
    "print(quat.asRotationMatrix())"
   ]
  },
  {
   "cell_type": "markdown",
   "metadata": {},
   "source": [
    "## Quaternions: Axis Angle Representation\n",
    "---\n",
    "\n",
    "<br>\n",
    "\n",
    "Given an unit-length rotation axis $\\hat{r} = [r_x, r_y, r_z]$ and an angle $\\theta$, the corresponding unit quaternion $q =(w, \\vec{v})$ is given by:\n",
    "\n",
    "$$\n",
    "\\begin{align*}\n",
    "q &= (\\cos\\left(\\frac{\\theta}{2}\\right), \\sin\\left(\\frac{\\theta}{2}\\right)\\hat{r})\\\\\n",
    "&= \\cos\\left(\\frac{\\theta}{2}\\right) +  \\sin\\left(\\frac{\\theta}{2}\\right) \\left(r_xi + r_yj + r_zk\\right) \\\\\n",
    "\\end{align*}\n",
    "$$\n",
    "\n",
    "Note: \n",
    "- Similarity to Complex Numbers $z = \\cos(\\theta) + \\sin(\\theta)i$.\n",
    "- To avoid rotational singularities in 3D, a unit quaternion is set up with the half angle $\\frac{\\theta}{2}$."
   ]
  },
  {
   "cell_type": "code",
   "execution_count": 10,
   "metadata": {},
   "outputs": [
    {
     "name": "stdout",
     "output_type": "stream",
     "text": [
      "Quaternion(0.878, 0.000, 0.479, 0.000)\n",
      "Quaternion Rotation:\n",
      "[[   0.540    0.000    0.841]\n",
      " [   0.000    1.000    0.000]\n",
      " [  -0.841    0.000    0.540]]\n"
     ]
    }
   ],
   "source": [
    "from neura_dual_quaternions import Quaternion\n",
    "\n",
    "# rotation axis\n",
    "r = np.array([0,1,0])\n",
    "\n",
    "theta = 1 # unit: rad\n",
    "\n",
    "q = Quaternion.fromAxisAngle(theta, r)\n",
    "\n",
    "print(q)\n",
    "\n",
    "print(\"Quaternion Rotation:\")\n",
    "print(q.asRotationMatrix())"
   ]
  },
  {
   "cell_type": "code",
   "execution_count": 11,
   "metadata": {},
   "outputs": [
    {
     "data": {
      "application/vnd.jupyter.widget-view+json": {
       "model_id": "0b59417459df409ca4d384fac57a71c4",
       "version_major": 2,
       "version_minor": 0
      },
      "text/plain": [
       "Output()"
      ]
     },
     "metadata": {},
     "output_type": "display_data"
    },
    {
     "data": {
      "application/vnd.jupyter.widget-view+json": {
       "model_id": "afe72f3ec7c44289917b81e1175b506e",
       "version_major": 2,
       "version_minor": 0
      },
      "text/plain": [
       "VBox(children=(FloatSlider(value=0.0, description='angle:', layout=Layout(width='70%'), max=6.283185307179586,…"
      ]
     },
     "metadata": {},
     "output_type": "display_data"
    }
   ],
   "source": [
    "from helper import *\n",
    "\n",
    "def interactive_plot(angle, azimuth, elevation):\n",
    "\n",
    "    fig, ax = create_3d_plot()\n",
    "\n",
    "    direction = spherical_coordinates(azimuth, elevation)\n",
    "\n",
    "    # Construct unit quaternion from axis-angle representation\n",
    "    quaternion = Quaternion.fromAxisAngle(angle, direction)\n",
    "    \n",
    "    #  Update plot elements with new quaternion rotation\n",
    "    create_quiver(ax, [0, 0, 0], direction, 1, 'grey')\n",
    "    draw_frame(ax, [0, 0, 0], quaternion.asRotationMatrix())\n",
    "    plt.show()\n",
    "\n",
    "angle_slider, azimuth_slider, elevation_slider = create_quaternion_sliders()\n",
    "\n",
    "ui = widgets.VBox([angle_slider, azimuth_slider, elevation_slider])\n",
    "out = widgets.interactive_output(interactive_plot, {\"angle\": angle_slider, \"azimuth\": azimuth_slider, \"elevation\": elevation_slider})\n",
    "\n",
    "# Display the UI\n",
    "display(out, ui)\n"
   ]
  },
  {
   "cell_type": "markdown",
   "metadata": {},
   "source": [
    "### Quaternions: Rotations Composition in 3D\n",
    "---\n",
    "<br>\n",
    "\n",
    "Similarly to rotation matrices, unit quaternions $q \\in S^3$ can be used to describe successive rotations.\n",
    "\n",
    "$$ q_4 = q_1 \\otimes q_2 \\otimes q_3 $$\n",
    "\n",
    "where $q_4$ combines the rotations of $q_1$, $q_2$, $q_3$ in given order.\n",
    "<br>\n",
    "\n",
    "**Note**:\n",
    "- quaternion multiplication is not commutative, order matters!\n",
    "- analogy Rotationmatrices: $R_4 = R_1 \\cdot R_2 \\cdot R_3$\n",
    "\n",
    "<br>"
   ]
  },
  {
   "cell_type": "code",
   "execution_count": 12,
   "metadata": {},
   "outputs": [
    {
     "data": {
      "application/vnd.jupyter.widget-view+json": {
       "model_id": "12a8dc68015f4d83b384d129adeb1f6d",
       "version_major": 2,
       "version_minor": 0
      },
      "text/plain": [
       "Output()"
      ]
     },
     "metadata": {},
     "output_type": "display_data"
    },
    {
     "data": {
      "application/vnd.jupyter.widget-view+json": {
       "model_id": "94c6c819e0c7422b80c5a370a65cdd2d",
       "version_major": 2,
       "version_minor": 0
      },
      "text/plain": [
       "VBox(children=(FloatSlider(value=0.0, description='Rx', layout=Layout(width='70%'), max=6.28, min=-6.28, step=…"
      ]
     },
     "metadata": {},
     "output_type": "display_data"
    }
   ],
   "source": [
    "from helper import *\n",
    "\n",
    "def interactive_plot(angle_x, angle_y, angle_z):\n",
    "\n",
    "    fig, ax = create_3d_plot()\n",
    "\n",
    "    # Construct unit quaternion from axis-angle representation\n",
    "    quaternion_x = Quaternion.fromAxisAngle(angle_x, np.array([1,0,0]))\n",
    "    quaternion_y = Quaternion.fromAxisAngle(angle_y, np.array([0,1,0]))\n",
    "    quaternion_z = Quaternion.fromAxisAngle(angle_z, np.array([0,0,1]))\n",
    "\n",
    "    quaternion = quaternion_x*quaternion_y*quaternion_z\n",
    "\n",
    "    #  Update plot elements with new quaternion rotation\n",
    "    draw_frame(ax, [0, 0, 0], quaternion.asRotationMatrix())\n",
    "    plt.show()\n",
    "\n",
    "slider_width = '70%'\n",
    "angle_x_slider = widgets.FloatSlider(value=0, min=-6.28, max=6.28, step=0.01, description=\"Rx\", layout={'width': slider_width})\n",
    "angle_y_slider = widgets.FloatSlider(value=0, min=-6.28, max=6.28, step=0.01, description=\"Ry\", layout={'width': slider_width})\n",
    "angle_z_slider = widgets.FloatSlider(value=0, min=-6.28, max=6.28, step=0.01, description=\"Rz\", layout={'width': slider_width})\n",
    "\n",
    "ui = widgets.VBox([angle_x_slider, angle_y_slider, angle_z_slider])\n",
    "out = widgets.interactive_output(interactive_plot, {\"angle_x\": angle_x_slider, \"angle_y\": angle_y_slider, \"angle_z\": angle_z_slider})\n",
    "\n",
    "# Display the UI\n",
    "display(out, ui)"
   ]
  },
  {
   "cell_type": "markdown",
   "metadata": {},
   "source": [
    "### Quaternions: Vector Rotation in 3D\n",
    "---\n",
    "<br>\n",
    "\n",
    "Similarly to complex numbers, a unit quaternion $q \\in S^3$ can be used to rotate any 3D vector $\\vec{x} \\in \\mathbb{R}^3$.\n",
    "\n",
    "For this, $\\vec{x} = (x_1, x_2, x_3)^T$ has to be written as a *pure quaternion* $\\bar{q}_x$:\n",
    "\n",
    "$$ \\bar{q}_x = (0, \\vec{x} ) = (0 + x_1i + x_2j + x_3k)$$\n",
    "\n",
    "<br>\n",
    "\n",
    "because of the half angle $\\frac{\\theta}{2}$, the rotation quaternion has to be applied twice to achieve full rotation.\n",
    "\n",
    "$$ \\bar{q}_{x, \\text{rotated}} = q_r \\otimes \\bar{q}_x \\otimes q_r^* $$\n",
    "\n",
    "<br>\n",
    "\n",
    "**Note**:\n",
    "- a *pure quaternion* is any quaternion with real part $w=0$.\n",
    "- $\\otimes$ denotes the quaternion multiplication.\n",
    "- $q^*$ denotes the quaternion conjugate. $q^* = (w, -\\vec{v})$.\n",
    "- for unit quaternions: $q^* = q^{-1}$.\n",
    "- analogy rotation matrices: $\\vec{x}_r = R\\vec{x}$.\n",
    "\n",
    "<br>\n"
   ]
  },
  {
   "cell_type": "markdown",
   "metadata": {},
   "source": [
    "### Quaternions: Double Cover Property\n",
    "---\n",
    "<br>\n",
    "\n",
    "<div style=\"display: flex; justify-content: space-between;\">\n",
    "\n",
    "<!-- Left column for text -->\n",
    "<div style=\"width: 58%;\">\n",
    "\n",
    "One of the unique and beneficial properties of Quaternions is the *Double Cover Property*.\n",
    "\n",
    "This property states that any unit quaternion $q$ and its negation $-q$ represent the **same orientation** in 3D space. Although they map to the same final orientation, $q$ and $-q$ define **different paths of rotation**. This can be thought of as two ways to reach the same orientation: a **long path** or a **short path**, depending on the choice of $q$ or $-q$.\n",
    "\n",
    "#### Why is this Useful?\n",
    "- *Avoidance of Ambiguities*: Quaternions prevent **gimbal lock** and allow smooth transitions between orientations.\n",
    "- *Interpolation Control*: The Double Cover Property allows quaternions to perform efficient **spherical linear interpolation (SLERP)**, with control over short and long rotation paths.\n",
    "\n",
    "</div>\n",
    "\n",
    "<!-- Right column for image -->\n",
    "<div style=\"width: 38%;\">\n",
    "    <img src=\"./data/quaternion_sphere.png\" alt=\"calibration scheme\" style=\"max-width: 600px; width: 100%; display: block; margin-left: auto; margin-right: auto;margin-top: 100px;\">\n",
    "    <p style=\"text-align: center; font-style: italic; margin-top: 10px;\">Long and Short Path Interpolation on the Quaternion Hypersphere.</p>\n",
    "</div>\n",
    "\n",
    "</div>\n"
   ]
  },
  {
   "cell_type": "code",
   "execution_count": 13,
   "metadata": {},
   "outputs": [
    {
     "data": {
      "application/vnd.jupyter.widget-view+json": {
       "model_id": "c59a137f441d429fa00f107a93f3c46f",
       "version_major": 2,
       "version_minor": 0
      },
      "text/plain": [
       "Output()"
      ]
     },
     "metadata": {},
     "output_type": "display_data"
    },
    {
     "data": {
      "application/vnd.jupyter.widget-view+json": {
       "model_id": "c34b715e22754c4d9a6c0ee7f40d8805",
       "version_major": 2,
       "version_minor": 0
      },
      "text/plain": [
       "VBox(children=(FloatSlider(value=0.0, description='s', layout=Layout(width='70%'), max=1.0, step=0.01),))"
      ]
     },
     "metadata": {},
     "output_type": "display_data"
    }
   ],
   "source": [
    "from helper import *\n",
    "\n",
    "#Example: Constructor and Antipodal Property\n",
    "q1 = Quaternion(1,0,0,0)\n",
    "q2 = Quaternion(.900, 0.000, 0.000, 0.434)*(1)\n",
    "\n",
    "def interactive_plot(s):\n",
    "\n",
    "    fig, ax = create_3d_plot(q2)\n",
    "\n",
    "    qm = Quaternion.slerp(q1, q2, s)    \n",
    "    \n",
    "    draw_frame(ax, [0,0,0], qm.asRotationMatrix())\n",
    "    \n",
    "    plt.show()\n",
    "\n",
    "s_slider = create_slider(\"s\", 0, 0, 1)\n",
    "\n",
    "\n",
    "ui = widgets.VBox([s_slider])\n",
    "out = widgets.interactive_output(interactive_plot, {\"s\": s_slider})\n",
    "\n",
    "# Display the UI\n",
    "display(out, ui)"
   ]
  },
  {
   "cell_type": "markdown",
   "metadata": {},
   "source": [
    "### Quaternions: Exponential and Logarithmic Map\n",
    "---\n",
    "<br>\n",
    "\n",
    "<div style=\"display: flex; justify-content: space-between;\">\n",
    "\n",
    "<div style=\"width: 68%;\">\n",
    "\n",
    "\n",
    "Given the product of **angle** and **rotation axis** $\\vec{v} = \\frac{\\theta}{2}\\hat{r}$, the exponential map of a unit quaternion is defined similarly to the exponential of a complex number:\n",
    "\n",
    "#### Exponential map of a unit quaternion\n",
    "   $$ e^{\\vec{v}} = e^{\\frac{\\theta}{2}\\hat{r}} = \\cos(\\|\\vec{v}\\|) + \\frac{\\vec{v}}{\\|\\vec{v}\\|} \\sin(\\|\\vec{v}\\|)$$\n",
    "\n",
    "Note:\n",
    "- map: $\\mathbb{R}^3 \\to S^3$\n",
    "- $\\|\\vec{v}\\| = \\frac{\\theta}{2}$\n",
    "- zero-angle singularity $\\|\\vec{v}\\| = 0$ (can be approximated with tailor series expansion)\n",
    "- similarity to axis angle contructor\n",
    "- similarity to complex numbers\n",
    "\n",
    "\n",
    "#### Logarithmic map of a unit quaternion\n",
    "\n",
    "The logarithm of $q = (w, \\vec{v})$ is defined as:\n",
    "\n",
    "\n",
    "$$ \\log(q) =  \\arccos\\left(w\\right)\\frac{\\vec{v}}{\\|\\vec{v}\\|} = \\frac{\\theta}{2}\\hat{r} $$\n",
    "\n",
    "Note:\n",
    "- map: $S^3 \\to \\mathbb{R}^3$\n",
    "- zero-angle singularity $ \\|\\vec{v}\\| = 0$ (can be approximated with tailor series expansion)\n",
    "\n",
    "<br>\n",
    "<br><br>\n",
    "</div>\n",
    "\n",
    "<!-- Right column for image -->\n",
    "<div style=\"width: 28%;\">\n",
    "    <img src=\"./data/quaternion_exp_log.png\" alt=\"calibration scheme\" style=\"max-width: 600px; width: 100%; display: block; margin-left: auto; margin-right: auto;margin-top: 100px;\">\n",
    "    <p style=\"text-align: center; font-style: italic; margin-top: 10px;\">Exp and Log map on the Quaternion Hypersphere.</p>\n",
    "</div>\n",
    "\n"
   ]
  },
  {
   "cell_type": "markdown",
   "metadata": {},
   "source": [
    "### Dual Quaternions\n",
    "---\n",
    "\n",
    "Dual Quaternions are a system for representing transformations in three dimensions, composed of two Quaternions $q_r$ and $q_d$.\n",
    "\n",
    "\n",
    "Dual-Quaternion: $$ \\underline{\\xi} = q_r + \\epsilon q_d $$\n",
    "\n",
    "Features:\n",
    "- Quaternion $q_r$: **real part**\n",
    "- Quaternion $q_d$: **dual part**\n",
    "- dual unit $\\epsilon$: $\\epsilon^2 = 0$ and $\\epsilon \\neq 0$\n",
    "- the Subspace of dual quaternions that can describe Homogeneous Transformations is called $\\mathbb{H}$\n",
    "- if $\\underline{\\xi} \\in \\mathbb{H}$ then $\\xi$ is called a unit dual quaternion\n",
    "- similarity $\\epsilon$ vs. $i$\n",
    "    \n",
    "<br>\n",
    "\n",
    "Notation:\n",
    "- Standard: $\\underline{\\xi} = q_r + \\epsilon q_d$\n",
    "- Real & Complex Part: $\\underline{\\xi} = (w_r, \\vec{v}_r) + \\epsilon (w_d, \\vec{v}_d)$\n",
    "- Sub-Vectorized: $\\underline{\\xi} = (w_r, x_r, y_r, z_r) + \\epsilon (w_d, x_d, y_d, z_d)$\n",
    "- Vectorized: $[\\underline{\\xi}]_{vec} = (w_r, x_r, y_r, z_r, w_d, x_d, y_d, z_d)^T$\n"
   ]
  },
  {
   "cell_type": "code",
   "execution_count": 14,
   "metadata": {},
   "outputs": [
    {
     "name": "stdout",
     "output_type": "stream",
     "text": [
      "DualQuaternion(Real: Quaternion(0.000, 1.000, 0.000, 0.000), Dual: Quaternion(0.000, 2.000, 1.000, 2.000))\n",
      "\n",
      "[[0]\n",
      " [1]\n",
      " [0]\n",
      " [0]\n",
      " [0]\n",
      " [2]\n",
      " [1]\n",
      " [2]]\n",
      "\n",
      "[[   1.000    0.000    0.000    0.000]\n",
      " [   0.000   -1.000    0.000   -4.000]\n",
      " [   0.000    0.000   -1.000    2.000]\n",
      " [   0.000    0.000    0.000    1.000]]\n"
     ]
    }
   ],
   "source": [
    "from neura_dual_quaternions import Quaternion, DualQuaternion\n",
    "\n",
    "q_r = Quaternion(0,1,0,0)\n",
    "\n",
    "q_d = Quaternion (0, 2, 1, 2)  \n",
    "\n",
    "dq = DualQuaternion(q_r, q_d)\n",
    "\n",
    "print(dq)\n",
    "print(\"\")\n",
    "print(dq.asVector())\n",
    "print(\"\")\n",
    "print(dq.asTransformation())"
   ]
  },
  {
   "cell_type": "markdown",
   "metadata": {},
   "source": [
    "### Dual Quaternions: Basic Transformation\n",
    "---\n",
    "<br>\n",
    "\n",
    "Given the unit quaternion $ q_r$ and the pure quaternion $\\bar{t}$ the dual quaternion transformation can be defined:\n",
    "\n",
    "<br>\n",
    "\n",
    "First Translation, then Rotation:\n",
    "$$ \n",
    "\\underline{\\xi} = q_r + \\epsilon \\frac{1}{2} \\bar{t} \\otimes q_r \n",
    "$$\n",
    "    \n",
    "\n",
    "<br>\n",
    "\n",
    "Note:\n",
    "- $q_r = (w, \\vec{v})$: defines rotation/orientation of frame\n",
    "- $\\bar{t} = (0,x,y,z)$: defines position of frame\n",
    "\n",
    "<br>\n",
    "\n",
    "Example:"
   ]
  },
  {
   "cell_type": "code",
   "execution_count": 15,
   "metadata": {},
   "outputs": [
    {
     "data": {
      "application/vnd.jupyter.widget-view+json": {
       "model_id": "464b7d0c180d48738e51f6fa76fc7e0a",
       "version_major": 2,
       "version_minor": 0
      },
      "text/plain": [
       "Output()"
      ]
     },
     "metadata": {},
     "output_type": "display_data"
    },
    {
     "data": {
      "application/vnd.jupyter.widget-view+json": {
       "model_id": "038f7128982e485b9d71c429bff43ac4",
       "version_major": 2,
       "version_minor": 0
      },
      "text/plain": [
       "VBox(children=(FloatSlider(value=0.0, description='angle:', layout=Layout(width='70%'), max=6.283185307179586,…"
      ]
     },
     "metadata": {},
     "output_type": "display_data"
    }
   ],
   "source": [
    "# Update function for the sliders\n",
    "def interactive_plot(angle, azimuth, elevation, x, y, z):\n",
    "\n",
    "    fig, ax = create_3d_plot()\n",
    "    \n",
    "    direction = spherical_coordinates(azimuth_slider.value, elevation_slider.value)\n",
    "    \n",
    "    # construct unit quaternion from axis angle\n",
    "    q_r = Quaternion.fromAxisAngle(angle_slider.value, direction)\n",
    "    \n",
    "    # set position vector\n",
    "    pos = [x_slider.value, y_slider.value, z_slider.value]\n",
    "    \n",
    "    dq = DualQuaternion.fromQuatPos(q_r, pos)\n",
    "    \n",
    "    # update plot\n",
    "    create_quiver(ax, dq.getPosition().flatten(), direction,1, 'grey')\n",
    "    draw_frame(ax, dq.getPosition().flatten(), q_r.asRotationMatrix())\n",
    "    plt.show()\n",
    "\n",
    "    \n",
    "angle_slider, azimuth_slider, elevation_slider = create_quaternion_sliders()\n",
    "x_slider, y_slider, z_slider = create_position_sliders()\n",
    "\n",
    "ui = widgets.VBox([angle_slider, azimuth_slider, elevation_slider, x_slider, y_slider, z_slider])\n",
    "out = widgets.interactive_output(interactive_plot, {\"angle\": angle_slider, \"azimuth\": azimuth_slider, \"elevation\": elevation_slider,\n",
    "                                                        \"x\": x_slider, \"y\": y_slider, \"z\": z_slider})\n",
    "\n",
    "# Display the UI\n",
    "display(out, ui)\n"
   ]
  },
  {
   "cell_type": "markdown",
   "metadata": {},
   "source": [
    "### Dual Quaternions: Multiplication $\\otimes$\n",
    "---\n",
    "<br>\n",
    "\n",
    "    \n",
    "Dual Quaternion Multiplication is similar to the multiplication of Transformation matrices \n",
    "\n",
    "$$\n",
    "\\underline{\\xi}_2^0= \\underline{\\xi}_1^0 \\otimes \\underline{\\xi}_2^1 \n",
    "$$\n",
    "\n",
    "corresponds to: \n",
    "\n",
    "$$\n",
    "T_2^0= T_1^0 \\cdot T_2^1 \n",
    "$$\n",
    "\n",
    "<br>\n",
    "\n",
    "#### Dual Quaternion Multiplication $\\otimes$\n",
    "\n",
    "The multiplication of two dual quaternions $ \\underline{\\xi}_1$ and $\\underline{\\xi}_2$ can be done as follows:\n",
    "\n",
    "$$\n",
    "\\underline{\\xi}_1 \\otimes \\underline{\\xi}_2 = (q_r^{(1)} + \\epsilon q_d^{(1)}) \\otimes (q_r^{(2)} + \\epsilon q_d^{(2)})\n",
    "$$\n",
    "\n",
    "$$\n",
    "\\underline{\\xi}_1 \\otimes \\underline{\\xi}_2 = (q_r^{(1)} \\otimes q_r^{(2)}) + \\epsilon(q_r^{(1)} \\otimes q_d^{(2)} + q_d^{(1)} \\otimes q_r^{(2)}) + \\epsilon^2(q_d^{(1)} \\otimes q_d^{(2)})\n",
    "$$\n",
    "\n",
    "with $\\epsilon^2 = 0$ the new dual quaternion is written like \n",
    "\n",
    "$$\n",
    "\\underline{\\xi}_3= (q_r^{(1)} \\otimes q_r^{(2)}) + \\epsilon(q_r^{(1)} \\otimes q_d^{(2)} + q_d^{(1)} \\otimes q_r^{(2)})\n",
    "$$\n",
    "\n",
    "<br><br><br>"
   ]
  },
  {
   "cell_type": "markdown",
   "metadata": {},
   "source": [
    "### Dual Quaternions: Exponential and Logarithmic Map\n",
    "---\n",
    "<br>\n",
    "\n",
    "Given the product of **dual angle** $\\underline{\\theta} = \\theta + \\epsilon d$ and **screw axis** $\\bar{\\underline{s}}$, the exponential map of a dual quaternion is defined similarly to the exponential of a Quaternion: \n",
    "\n",
    "The exponential map is defined as:\n",
    "<br>\n",
    "\n",
    "$$\n",
    "\\underline{\\xi} = e^{\\frac{\\underline{\\theta}}{2}\\bar{\\underline{s}}} = \\cos(\\frac{\\underline{\\theta}}{2}) +  \\sin(\\frac{\\underline{\\theta}}{2})\\bar{\\underline{s}}\n",
    "$$\n",
    "\n",
    "\n",
    "Note:\n",
    "- map: $\\mathbb{R}^6 \\to \\mathbb{H}$\n",
    "- $\\bar{\\underline{s}} = (0 + s_1i + s_2j + s_3k) + \\epsilon(0 + s_4i + s_5j + s_6k)$ is a pure dual quaternion\n",
    "- $\\bar{\\underline{s}} \\in \\mathbb{R}^6$\n",
    "- zero-angle singularity $\\|\\frac{\\underline{\\theta}}{2}\\bar{\\underline{s}}\\| = 0$ (can be approximated with tailor series expansion)\n",
    "- similarity to unit quaternions (+ dual maths)\n",
    "\n",
    "<br>\n",
    "\n",
    "The logarithmic map of $\\underline{\\xi} = q_r + \\epsilon q_d$ is defined as:\n",
    "\n",
    "\n",
    "$$ \\log(\\underline{\\xi}) = \\frac{\\underline{\\theta}}{2}\\bar{\\underline{s}} $$\n",
    "\n",
    "Note:\n",
    "- map: $\\mathbb{H} \\to \\mathbb{R}^6$\n",
    "- zero-angle singularity $ \\|\\frac{\\underline{\\theta}}{2}\\bar{\\underline{s}}\\| = 0$ (can be approximated with tailor series expansion)\n",
    "\n",
    "<br><br><br>"
   ]
  },
  {
   "cell_type": "markdown",
   "metadata": {},
   "source": [
    "## Screw Theory\n",
    "---\n",
    "<br>\n",
    "<div style=\"display: flex; justify-content: space-between;\">\n",
    "<div style=\"width: 48%;\">\n",
    "\n",
    "Screw Theory is a more advanced alternative to the Denavit-Hartenberg Convention.\n",
    "\n",
    "Key Concepts:\n",
    "- *screw axis* $\\vec{s}$\n",
    "- *screw motion* around the screw axis $\\vec{s}$\n",
    "- Tranformations from exponential map\n",
    "- Can handle revolute and prismatic joints without distinction\n",
    "    \n",
    "</div>\n",
    "\n",
    "<!-- Right column for image -->\n",
    "<div style=\"width: 48%;\">\n",
    "    <img src=\"./data/screw.png\" alt=\"calibration scheme\" style=\"max-width: 700px; width: 100%; display: block; margin-left: auto; margin-right: auto;margin-top: 100px;\">\n",
    "    <p style=\"text-align: center; font-style: italic; margin-top: 10px;\">Screw Axis example.</p>\n",
    "</div>\n",
    "\n",
    "</div>\n",
    "\n",
    "<br><br>"
   ]
  },
  {
   "cell_type": "markdown",
   "metadata": {},
   "source": [
    "### Screw Theory: The Screw Axis\n",
    "--- \n",
    "\n",
    "<br>\n",
    "\n",
    "The screw axis $\\vec{s} \\in \\mathbb{R}^6$ is defined from a rotation axis $\\hat{r}$ and a position $\\vec{p}$\n",
    "\n",
    "\n",
    "\n",
    "$$ \\vec{s} = (\\hat{r}, \\; \\vec{p} \\times \\hat{r}) = (\\hat{r}, \\; \\vec{m})$$\n",
    "\n",
    "Here, $\\vec{m} = \\vec{p} \\times \\hat{r}$ is called the *moment of the line*.\n",
    "\n",
    "\n",
    "Followingly, the screw axis is represented as **pure dual quaternion** $\\bar{\\underline{s}} = (0, \\hat{r}) + \\epsilon(0, \\vec{m}) = \\hat{r} + \\epsilon \\vec{m}$\n",
    "\n",
    "\n",
    "\n"
   ]
  },
  {
   "cell_type": "code",
   "execution_count": 16,
   "metadata": {},
   "outputs": [
    {
     "name": "stdout",
     "output_type": "stream",
     "text": [
      "screw axis:  DualQuaternion(Real: Quaternion(0.000, 0.000, 1.000, 0.000), Dual: Quaternion(0.000, -2.000, 0.000, 0.000))\n"
     ]
    }
   ],
   "source": [
    "#Example\n",
    "r = np.array([0,1,0])\n",
    "pos = np.array([0,0,2])\n",
    "\n",
    "\n",
    "s = DualQuaternion.screwAxis(*r, *pos)\n",
    "print(\"screw axis: \", s)"
   ]
  },
  {
   "cell_type": "markdown",
   "metadata": {},
   "source": [
    "in combination with the dual angle $\\underline{\\theta} = \\theta + \\epsilon d$, the Screw Transformation can be computed:\n",
    "\n",
    "$$ \\underline{\\xi} = e^{\\frac{\\underline{\\theta}}{2}\\bar{\\underline{s}}} $$\n",
    "\n",
    "The exponent can be computed via the application of dual maths:\n",
    "$$\n",
    "\\begin{align*}\n",
    "\\frac{\\underline{\\theta}}{2}  \\cdot \\bar{\\underline{s}} &= 0.5 \\cdot (\\theta + \\epsilon d) \\cdot (\\hat{r} + \\epsilon\\vec{m})\\\\\n",
    "&= 0.5 \\cdot (\\theta \\cdot \\hat{r}) + \\epsilon (\\theta \\cdot \\vec{m} + d \\cdot \\hat{r}) + \\epsilon^2(d \\cdot \\vec{m}) \\\\\n",
    "&= 0.5 \\cdot (\\theta \\cdot \\hat{r}) + \\epsilon (\\theta \\cdot \\vec{m} + d \\cdot \\hat{r})  \\\\\n",
    "\\end{align*}\n",
    "$$\n",
    "\n",
    "Notes:\n",
    "- $\\theta$: rotation around screw axis\n",
    "- $d$: translation along screw axis"
   ]
  },
  {
   "cell_type": "code",
   "execution_count": 17,
   "metadata": {},
   "outputs": [
    {
     "data": {
      "application/vnd.jupyter.widget-view+json": {
       "model_id": "909b4d68329f4c778b5fd7b1d2b191d7",
       "version_major": 2,
       "version_minor": 0
      },
      "text/plain": [
       "Output()"
      ]
     },
     "metadata": {},
     "output_type": "display_data"
    },
    {
     "data": {
      "application/vnd.jupyter.widget-view+json": {
       "model_id": "5c48989d4d6d48cf83fa999193a4eb24",
       "version_major": 2,
       "version_minor": 0
      },
      "text/plain": [
       "VBox(children=(FloatSlider(value=0.0, description='angle:', layout=Layout(width='70%'), max=6.283185307179586,…"
      ]
     },
     "metadata": {},
     "output_type": "display_data"
    }
   ],
   "source": [
    "from helper import *\n",
    "\n",
    "frame = DualQuaternion.fromQuatPos(Quaternion(1,0,0,0), [0.3,.5,.5])\n",
    "\n",
    "def interactive_plot(angle, azimuth, elevation, x, y, z):\n",
    "\n",
    "    fig, ax = create_3d_plot()\n",
    "    \n",
    "    rotation_axis = spherical_coordinates(azimuth, elevation)\n",
    "    \n",
    "    # set position vector\n",
    "    pos = [x, y, z]\n",
    "    \n",
    "    screw_axis = DualQuaternion.screwAxis(*rotation_axis, *pos)\n",
    "    \n",
    "    theta = 0 \n",
    "    d = 0.1*angle\n",
    "   \n",
    "    exponent = DualQuaternion(screw_axis.real*theta, screw_axis.dual*theta + screw_axis.real*d)\n",
    "    screw_transformation = DualQuaternion.exp(0.5*exponent)\n",
    "    \n",
    "    frame_transformed = screw_transformation*frame\n",
    "    \n",
    "    create_quiver(ax, pos, rotation_axis, 1, 'grey') \n",
    "    ax.plot([pos[0]-rotation_axis[0]*2, pos[0]+rotation_axis[0]*2], [pos[1]-rotation_axis[1]*2, pos[1]+rotation_axis[1]*2], [pos[2]-rotation_axis[2]*2, pos[2]+rotation_axis[2]*2], \"--\", linewidth = 1, c = \"black\")\n",
    "    ax.plot([0, pos[0]], [0, pos[1]], [0, pos[2]], \"--\", linewidth = 1, c = \"k\")\n",
    "    draw_frame(ax, frame.getPosition().flatten(), frame.real.asRotationMatrix())\n",
    "    draw_frame(ax, frame_transformed.getPosition().flatten(), frame_transformed.real.asRotationMatrix())\n",
    "\n",
    "    plt.show()\n",
    "\n",
    "\n",
    "angle_slider, azimuth_slider, elevation_slider = create_quaternion_sliders()\n",
    "x_slider, y_slider, z_slider = create_position_sliders()\n",
    "\n",
    "ui = widgets.VBox([angle_slider, azimuth_slider, elevation_slider, x_slider, y_slider, z_slider])\n",
    "out = widgets.interactive_output(interactive_plot, {\"angle\": angle_slider, \"azimuth\": azimuth_slider, \"elevation\": elevation_slider,\n",
    "                                                        \"x\": x_slider, \"y\": y_slider, \"z\": z_slider})\n",
    "\n",
    "# Display the UI\n",
    "display(out, ui)\n"
   ]
  },
  {
   "cell_type": "markdown",
   "metadata": {},
   "source": [
    "## Screw Theory: Application To Kinematics\n",
    "--- \n",
    "<div style=\"font-family: 'Helvetica Neue', Arial, sans-serif; display: flex; justify-content: space-between;\">\n",
    "\n",
    "<!-- Left column for text -->\n",
    "<div style=\"width: 58%;\">\n",
    "\n",
    "<br>\n",
    "\n",
    "1. Get the geometric information of the robot we want to model:\n",
    "\n",
    "    <br>\n",
    "    \n",
    "    | Link | Rotation Axis  | Position        |\n",
    "    |------|----------------|-----------------|\n",
    "    | 1    | $(0,0,1)$     | $(0,0,0)$       |\n",
    "    | 2    | $(0,1,0)$     | $(0,0,0.438)$   |\n",
    "    | 3    | $(0,0,1)$     | $(0,0,0.438)$   |\n",
    "    | 4    | $(0,1,0)$     | $(0,0,1.138)$   |\n",
    "    | 5    | $(0,0,1)$     | $(0,0,1.138)$   |\n",
    "    | 6    | $(0,1,0)$     | $(0,0,1.838)$   |\n",
    "    | 7    | $(0,0,1)$     | $(0,0,1.838)$   |\n",
    "\n",
    "    <br>\n",
    "    \n",
    "    The Endeffector Frame $M$ is defined as a Dual Quaternion transformation with orientation of $q_r = (1,0,0,0)$ and position of $\\bar{t} = (0,0,0,1.953)$.\n",
    "\n",
    "<br><br>\n",
    "\n",
    "2. Set up screw axis from the geometric information\n",
    "\n",
    "3. Compute exponential map to get screw transformations\n",
    "\n",
    "4. Compose the tTransformations to get Forward Kinematics \n",
    "\n",
    "</div>\n",
    "\n",
    "<!-- Right column for image -->\n",
    "<div style=\"width: 38%;\">\n",
    "    <img src=\"./data/maira_screw_axis.png\" alt=\"calibration scheme\" style=\"max-width: 500px; width: 100%; display: block; margin-left: auto; margin-right: auto;margin-top: 10px;\">\n",
    "</div>\n",
    "\n",
    "</div>"
   ]
  },
  {
   "cell_type": "code",
   "execution_count": 18,
   "metadata": {},
   "outputs": [
    {
     "name": "stdout",
     "output_type": "stream",
     "text": [
      "DualQuaternion(Real: Quaternion(0.000, 0.000, 0.000, 1.000), Dual: Quaternion(0.000, 0.000, 0.000, 0.000))\n"
     ]
    }
   ],
   "source": [
    "from neura_dual_quaternions import Quaternion, DualQuaternion\n",
    "\n",
    "s1 = DualQuaternion.screwAxis(*[0, 0, 1], *[0, 0, 0])\n",
    "s2 = DualQuaternion.screwAxis(*[0, 1, 0], *[0, 0, 0.438])\n",
    "s3 = DualQuaternion.screwAxis(*[0, 0, 1], *[0, 0, 0.438])\n",
    "s4 = DualQuaternion.screwAxis(*[0, 1, 0], *[0, 0, 1.138])\n",
    "s5 = DualQuaternion.screwAxis(*[0, 0, 1], *[0, 0, 1.138])\n",
    "s6 = DualQuaternion.screwAxis(*[0, 1, 0], *[0, 0, 1.838])\n",
    "s7 = DualQuaternion.screwAxis(*[0, 0, 1], *[0, 0, 1.838])\n",
    "\n",
    "M = DualQuaternion.fromQuatPos(Quaternion(1,0,0,0), [0, 0, 1.953])\n",
    "\n",
    "print(s1)"
   ]
  },
  {
   "cell_type": "markdown",
   "metadata": {},
   "source": [
    "\n",
    "\n",
    "with the screws $\\bar{\\underline{s}}_i$ and the angle $\\theta_i$ we can now define the dual quaternion transformations $\\underline{\\xi}_i$ which correspond to motion around each robotic joint\n",
    "\n",
    "$$\n",
    "\\underline{\\xi}_i = e^{\\frac{\\underline{\\theta}_i}{2}\\bar{\\underline{s}}_i} \n",
    "$$\n",
    "\n",
    "with these transformations we can then define the transformation between the baseframe and the TCP $ \\underline{\\xi}_{TCP}^0 $\n",
    "\n",
    "$$ \n",
    "\\underline{\\xi}_{TCP}^0 = (\\Pi_{i = 0}^{n = 7} \\underline{\\xi}_i) \\otimes M\n",
    "$$\n"
   ]
  },
  {
   "cell_type": "code",
   "execution_count": 19,
   "metadata": {},
   "outputs": [
    {
     "name": "stdout",
     "output_type": "stream",
     "text": [
      "DualQuaternion(Real: Quaternion(-0.701, -0.000, 0.658, 0.275), Dual: Quaternion(-0.506, -0.106, -0.435, -0.249))\n",
      "[[  -0.017    0.386   -0.922    0.060]\n",
      " [  -0.386    0.849    0.362    1.218]\n",
      " [   0.922    0.362    0.134    0.768]\n",
      " [   0.000    0.000    0.000    1.000]]\n"
     ]
    }
   ],
   "source": [
    "from helper import *\n",
    "\n",
    "def forward_kinematics(theta):\n",
    "    x1 = DualQuaternion.exp(0.5*theta[0]*s1)\n",
    "    x2 = DualQuaternion.exp(0.5*theta[1]*s2)\n",
    "    x3 = DualQuaternion.exp(0.5*theta[2]*s3)\n",
    "    x4 = DualQuaternion.exp(0.5*theta[3]*s4)\n",
    "    x5 = DualQuaternion.exp(0.5*theta[4]*s5)\n",
    "    x6 = DualQuaternion.exp(0.5*theta[5]*s6)\n",
    "    x7 = DualQuaternion.exp(0.5*theta[6]*s7)\n",
    "    \n",
    "    return x1*x2*x3*x4*x5*x6*x7*M\n",
    "\n",
    "theta = np.array([1,1,1,1,1,1,1])\n",
    "print(forward_kinematics(theta))\n",
    "print(forward_kinematics(theta).asTransformation())"
   ]
  },
  {
   "cell_type": "code",
   "execution_count": 20,
   "metadata": {},
   "outputs": [
    {
     "data": {
      "text/html": [
       "\n",
       "        <iframe\n",
       "            width=\"600\"\n",
       "            height=\"400\"\n",
       "            src=\"http://localhost:52000/?53000\"\n",
       "            frameborder=\"0\"\n",
       "            allowfullscreen\n",
       "            \n",
       "        ></iframe>\n",
       "        "
      ],
      "text/plain": [
       "<IPython.lib.display.IFrame at 0x244b88622a0>"
      ]
     },
     "metadata": {},
     "output_type": "display_data"
    },
    {
     "data": {
      "application/vnd.jupyter.widget-view+json": {
       "model_id": "5e41731398cd4ba492513e6422c4ca4e",
       "version_major": 2,
       "version_minor": 0
      },
      "text/plain": [
       "interactive(children=(FloatSlider(value=0.0, description='joint angle 1', layout=Layout(width='80%'), max=3.14…"
      ]
     },
     "metadata": {},
     "output_type": "display_data"
    }
   ],
   "source": [
    "from helper import *\n",
    "\n",
    "# add function to update the model and the 'real' robot\n",
    "def update_robot(q1, q2, q3, q4, q5, q6, q7):\n",
    "    \n",
    "    joint_angles = np.array([q1, q2, q3, q4, q5, q6, q7])\n",
    "    \n",
    "    maira.q = joint_angles\n",
    "    \n",
    "    T_ee.T = forward_kinematics(joint_angles).asTransformation()\n",
    "    \n",
    "    env.step()\n",
    "\n",
    "# Make and instance of the Swift simulator and open it\n",
    "env = Swift()\n",
    "env.launch(realtime=False, browser = \"notebook\")\n",
    "\n",
    "# Create a MAiRA model \n",
    "maira = rtb.models.URDF.Maira7M()\n",
    "\n",
    "# show the TCP position computed from the FK as well\n",
    "T_ee = sg.Axes(0.15, pose = forward_kinematics(maira.q).asTransformation())\n",
    "\n",
    "# Add model Robot to the environment\n",
    "env.add(maira)\n",
    "env.add(T_ee)\n",
    "\n",
    "\n",
    "# display sliders to make the robot move\n",
    "show_sliders(update_robot)"
   ]
  },
  {
   "cell_type": "markdown",
   "metadata": {},
   "source": [
    "##  Comparison: Dual Quaternions vs Transformation Matrices\n",
    "---\n",
    "\n"
   ]
  },
  {
   "cell_type": "markdown",
   "metadata": {},
   "source": [
    "Why should I start using Quaternions and Dual Quaternions?\n",
    "\n",
    "1. #### Efficiency: \n",
    "\n",
    "    Dual Quaternions are generally 20-30% more efficient than DH Transformation Matrices.\n",
    "    This can be explained by the following table:\n",
    "    \n",
    "    <br>\n",
    "\n",
    "    Computation | Storage | Multiplication | Addition | Sin/Cos\n",
    "    ------------|---------|----------------|----------|--------\n",
    "    DH Tf.      | 16      |  6             |    0     |   4\n",
    "    DQ Tf.      |   8     |  15            |    3     |   2\n",
    "    Tf. Mat Mult.|  -     |   64           |    48    |   0\n",
    "    DQ Mult     |   -     |    48          |    40    |   0\n",
    "\n",
    "<br>\n",
    "\n",
    "2. #### Double Cover Property:\n",
    "    \n",
    "    Dual Quaternions inherit the **Double Cover Property** from the Quaternions, allowing for singularity free handling and more control during Interpolation.\n",
    "    This is especially helpful in the inverse Kinematics and Motion planning of  Cobots.\n",
    "\n",
    "<br>\n",
    "\n",
    "3. #### Ease of Use:\n",
    "\n",
    "    While the implementation of Transformation matrices is more straight-forward, the application of Dual Quaternions (in combination with Screw Theory) allows for more flexible and intuitve usage, i.e. during set up of the *Forward Kinematics*.\n",
    "\n",
    "    <br>"
   ]
  },
  {
   "cell_type": "markdown",
   "metadata": {},
   "source": [
    "<div style=\"font-family: 'Helvetica Neue', Arial, sans-serif; padding: 120px; text-align: center; margin-left: 0px;\">\n",
    "\n",
    "<!-- Introduction -->\n",
    "<div style=\"max-width: 1100px;font-family: 'Helvetica Neue', Arial, sans-serif; margin-left: -50px;\">\n",
    "    <!-- Making the headline a link to the Neura Robotics website -->\n",
    "<h1 style=\"font-size: 5.5em; margin-bottom: 15px;\">Thank you for your Attention!</h1>\n",
    "\n",
    "</div>\n",
    "</div>\n",
    "\n",
    "\n",
    "<div style=\"font-family: 'Helvetica Neue', Arial, sans-serif;\">\n",
    "<h2 style=\"border-bottom: 2px solid #ddd; padding-bottom: 10px;\">Contact Information</h2>\n",
    "\n",
    "<!-- Lecturer: Jens Temminghoff -->\n",
    "<h4>Lecturer: Jens Temminghoff</h4>\n",
    "<p>jens.temminghoff@neura-robotics.com</p>\n",
    "\n",
    "<!-- Human Resources Department -->\n",
    "<h4>Human Resources: Florian Fackelmeyer</h4>\n",
    "<p>florian.fackelmeyer@neura-robotics.com</p>\n",
    "\n",
    "<!-- Company: Neura Robotics -->\n",
    "<h4>Neura Robotics</h4>\n",
    "<p>For more information, visit our <a href=\"https://www.neura-robotics.com\">official website</a> or contact our team directly. We're always eager to collaborate and bring new ideas to life!</p>\n",
    "</div>\n",
    "<br><br><br><br>"
   ]
  }
 ],
 "metadata": {
  "kernelspec": {
   "display_name": "Python 3",
   "language": "python",
   "name": "python3"
  },
  "language_info": {
   "codemirror_mode": {
    "name": "ipython",
    "version": 3
   },
   "file_extension": ".py",
   "mimetype": "text/x-python",
   "name": "python",
   "nbconvert_exporter": "python",
   "pygments_lexer": "ipython3",
   "version": "3.12.0"
  }
 },
 "nbformat": 4,
 "nbformat_minor": 2
}
