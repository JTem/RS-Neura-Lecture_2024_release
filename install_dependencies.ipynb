{
 "cells": [
  {
   "cell_type": "markdown",
   "metadata": {},
   "source": [
    "## Install these dependencies to run the RS-Lecture.\n",
    "---\n",
    "\n",
    "It is recommended to run this in VSCode with **Python**, **Latex**, **vscode-pdf** and **Jupyter** Extension.\n",
    "\n",
    "It can also work in JupyterLab and Jupyter but lately those had some issues with the widgets (for me at least).\n",
    "\n",
    "\n",
    "I hope i put all needed dependencies, else just pip install the missing ones as well!"
   ]
  },
  {
   "cell_type": "code",
   "execution_count": null,
   "metadata": {},
   "outputs": [],
   "source": [
    "%pip install matplotlib\n",
    "%pip install ipympl\n",
    "%pip install ipywidgets\n",
    "%pip install scipy\n",
    "%pip install neura-robotictoolbox\n",
    "%pip install neura-dual-quaternions\n",
    "%pip install numpy"
   ]
  }
 ],
 "metadata": {
  "kernelspec": {
   "display_name": "Python 3",
   "language": "python",
   "name": "python3"
  },
  "language_info": {
   "codemirror_mode": {
    "name": "ipython",
    "version": 3
   },
   "file_extension": ".py",
   "mimetype": "text/x-python",
   "name": "python",
   "nbconvert_exporter": "python",
   "pygments_lexer": "ipython3",
   "version": "3.12.0"
  }
 },
 "nbformat": 4,
 "nbformat_minor": 2
}
